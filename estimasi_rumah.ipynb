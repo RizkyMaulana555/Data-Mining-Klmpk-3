{
  "cells": [
    {
      "cell_type": "markdown",
      "metadata": {
        "id": "ExPHxYZ2GP--"
      },
      "source": [
        "IMPORT LIBRARY"
      ]
    },
    {
      "cell_type": "code",
      "execution_count": 85,
      "metadata": {
        "id": "fQfFDDldGW3F"
      },
      "outputs": [],
      "source": [
        "import pandas as pd\n",
        "import numpy as np\n",
        "import matplotlib.pyplot as plt\n",
        "import seaborn as sns"
      ]
    },
    {
      "cell_type": "markdown",
      "metadata": {
        "id": "squIKWkIG_4t"
      },
      "source": [
        "DATASET"
      ]
    },
    {
      "cell_type": "code",
      "execution_count": 86,
      "metadata": {
        "id": "iZd5gSQ_HMCH"
      },
      "outputs": [],
      "source": [
        "df = pd.read_csv('Rumah.csv')"
      ]
    },
    {
      "cell_type": "markdown",
      "metadata": {
        "id": "Xda9eBVqHmKn"
      },
      "source": [
        "DESKRIPSI"
      ]
    },
    {
      "cell_type": "code",
      "execution_count": 87,
      "metadata": {
        "colab": {
          "base_uri": "https://localhost:8080/",
          "height": 206
        },
        "id": "qmV2LoKXHq6i",
        "outputId": "895513f2-cd1e-4efb-f2af-894df2f75540"
      },
      "outputs": [
        {
          "data": {
            "text/html": [
              "<div>\n",
              "<style scoped>\n",
              "    .dataframe tbody tr th:only-of-type {\n",
              "        vertical-align: middle;\n",
              "    }\n",
              "\n",
              "    .dataframe tbody tr th {\n",
              "        vertical-align: top;\n",
              "    }\n",
              "\n",
              "    .dataframe thead th {\n",
              "        text-align: right;\n",
              "    }\n",
              "</style>\n",
              "<table border=\"1\" class=\"dataframe\">\n",
              "  <thead>\n",
              "    <tr style=\"text-align: right;\">\n",
              "      <th></th>\n",
              "      <th>HARGA</th>\n",
              "      <th>LT</th>\n",
              "      <th>LB</th>\n",
              "      <th>JKT</th>\n",
              "      <th>JKM</th>\n",
              "      <th>GRS</th>\n",
              "      <th>KOTA</th>\n",
              "    </tr>\n",
              "  </thead>\n",
              "  <tbody>\n",
              "    <tr>\n",
              "      <th>0</th>\n",
              "      <td>28000000000</td>\n",
              "      <td>1100</td>\n",
              "      <td>700</td>\n",
              "      <td>5</td>\n",
              "      <td>6</td>\n",
              "      <td>1</td>\n",
              "      <td>JAKSEL</td>\n",
              "    </tr>\n",
              "    <tr>\n",
              "      <th>1</th>\n",
              "      <td>19000000000</td>\n",
              "      <td>824</td>\n",
              "      <td>800</td>\n",
              "      <td>4</td>\n",
              "      <td>4</td>\n",
              "      <td>1</td>\n",
              "      <td>JAKSEL</td>\n",
              "    </tr>\n",
              "    <tr>\n",
              "      <th>2</th>\n",
              "      <td>4700000000</td>\n",
              "      <td>500</td>\n",
              "      <td>400</td>\n",
              "      <td>4</td>\n",
              "      <td>3</td>\n",
              "      <td>1</td>\n",
              "      <td>JAKSEL</td>\n",
              "    </tr>\n",
              "    <tr>\n",
              "      <th>3</th>\n",
              "      <td>4900000000</td>\n",
              "      <td>251</td>\n",
              "      <td>300</td>\n",
              "      <td>5</td>\n",
              "      <td>4</td>\n",
              "      <td>1</td>\n",
              "      <td>JAKSEL</td>\n",
              "    </tr>\n",
              "    <tr>\n",
              "      <th>4</th>\n",
              "      <td>28000000000</td>\n",
              "      <td>1340</td>\n",
              "      <td>575</td>\n",
              "      <td>4</td>\n",
              "      <td>5</td>\n",
              "      <td>1</td>\n",
              "      <td>JAKSEL</td>\n",
              "    </tr>\n",
              "  </tbody>\n",
              "</table>\n",
              "</div>"
            ],
            "text/plain": [
              "         HARGA    LT   LB  JKT  JKM  GRS    KOTA\n",
              "0  28000000000  1100  700    5    6    1  JAKSEL\n",
              "1  19000000000   824  800    4    4    1  JAKSEL\n",
              "2   4700000000   500  400    4    3    1  JAKSEL\n",
              "3   4900000000   251  300    5    4    1  JAKSEL\n",
              "4  28000000000  1340  575    4    5    1  JAKSEL"
            ]
          },
          "execution_count": 87,
          "metadata": {},
          "output_type": "execute_result"
        }
      ],
      "source": [
        "df.head()"
      ]
    },
    {
      "cell_type": "markdown",
      "metadata": {},
      "source": [
        "MELIHAT TIPE DATA"
      ]
    },
    {
      "cell_type": "code",
      "execution_count": 88,
      "metadata": {
        "colab": {
          "base_uri": "https://localhost:8080/"
        },
        "id": "Q2bYU65kH8gl",
        "outputId": "8d05389d-89e6-4e6e-b86c-3c06b1595d96"
      },
      "outputs": [
        {
          "name": "stdout",
          "output_type": "stream",
          "text": [
            "<class 'pandas.core.frame.DataFrame'>\n",
            "RangeIndex: 1001 entries, 0 to 1000\n",
            "Data columns (total 7 columns):\n",
            " #   Column  Non-Null Count  Dtype \n",
            "---  ------  --------------  ----- \n",
            " 0   HARGA   1001 non-null   int64 \n",
            " 1   LT      1001 non-null   int64 \n",
            " 2   LB      1001 non-null   int64 \n",
            " 3   JKT     1001 non-null   int64 \n",
            " 4   JKM     1001 non-null   int64 \n",
            " 5   GRS     1001 non-null   int64 \n",
            " 6   KOTA    1001 non-null   object\n",
            "dtypes: int64(6), object(1)\n",
            "memory usage: 54.9+ KB\n"
          ]
        }
      ],
      "source": [
        "df.info()"
      ]
    },
    {
      "cell_type": "code",
      "execution_count": 89,
      "metadata": {
        "colab": {
          "base_uri": "https://localhost:8080/",
          "height": 300
        },
        "id": "OLGSYUfPI1x4",
        "outputId": "4453eccf-2336-409b-a436-43eb21d414db"
      },
      "outputs": [
        {
          "data": {
            "text/html": [
              "<div>\n",
              "<style scoped>\n",
              "    .dataframe tbody tr th:only-of-type {\n",
              "        vertical-align: middle;\n",
              "    }\n",
              "\n",
              "    .dataframe tbody tr th {\n",
              "        vertical-align: top;\n",
              "    }\n",
              "\n",
              "    .dataframe thead th {\n",
              "        text-align: right;\n",
              "    }\n",
              "</style>\n",
              "<table border=\"1\" class=\"dataframe\">\n",
              "  <thead>\n",
              "    <tr style=\"text-align: right;\">\n",
              "      <th></th>\n",
              "      <th>HARGA</th>\n",
              "      <th>LT</th>\n",
              "      <th>LB</th>\n",
              "      <th>JKT</th>\n",
              "      <th>JKM</th>\n",
              "      <th>GRS</th>\n",
              "    </tr>\n",
              "  </thead>\n",
              "  <tbody>\n",
              "    <tr>\n",
              "      <th>count</th>\n",
              "      <td>1.001000e+03</td>\n",
              "      <td>1001.000000</td>\n",
              "      <td>1001.000000</td>\n",
              "      <td>1001.000000</td>\n",
              "      <td>1001.000000</td>\n",
              "      <td>1001.000000</td>\n",
              "    </tr>\n",
              "    <tr>\n",
              "      <th>mean</th>\n",
              "      <td>1.747472e+10</td>\n",
              "      <td>530.504496</td>\n",
              "      <td>487.275724</td>\n",
              "      <td>4.457542</td>\n",
              "      <td>3.940060</td>\n",
              "      <td>0.778222</td>\n",
              "    </tr>\n",
              "    <tr>\n",
              "      <th>std</th>\n",
              "      <td>2.079548e+10</td>\n",
              "      <td>531.069773</td>\n",
              "      <td>452.872262</td>\n",
              "      <td>2.004606</td>\n",
              "      <td>1.903261</td>\n",
              "      <td>0.415650</td>\n",
              "    </tr>\n",
              "    <tr>\n",
              "      <th>min</th>\n",
              "      <td>4.300000e+08</td>\n",
              "      <td>22.000000</td>\n",
              "      <td>38.000000</td>\n",
              "      <td>1.000000</td>\n",
              "      <td>1.000000</td>\n",
              "      <td>0.000000</td>\n",
              "    </tr>\n",
              "    <tr>\n",
              "      <th>25%</th>\n",
              "      <td>6.750000e+09</td>\n",
              "      <td>220.000000</td>\n",
              "      <td>300.000000</td>\n",
              "      <td>4.000000</td>\n",
              "      <td>3.000000</td>\n",
              "      <td>1.000000</td>\n",
              "    </tr>\n",
              "    <tr>\n",
              "      <th>50%</th>\n",
              "      <td>1.350000e+10</td>\n",
              "      <td>400.000000</td>\n",
              "      <td>411.000000</td>\n",
              "      <td>4.000000</td>\n",
              "      <td>4.000000</td>\n",
              "      <td>1.000000</td>\n",
              "    </tr>\n",
              "    <tr>\n",
              "      <th>75%</th>\n",
              "      <td>2.000000e+10</td>\n",
              "      <td>677.000000</td>\n",
              "      <td>600.000000</td>\n",
              "      <td>5.000000</td>\n",
              "      <td>4.000000</td>\n",
              "      <td>1.000000</td>\n",
              "    </tr>\n",
              "    <tr>\n",
              "      <th>max</th>\n",
              "      <td>2.500000e+11</td>\n",
              "      <td>6790.000000</td>\n",
              "      <td>10000.000000</td>\n",
              "      <td>27.000000</td>\n",
              "      <td>27.000000</td>\n",
              "      <td>1.000000</td>\n",
              "    </tr>\n",
              "  </tbody>\n",
              "</table>\n",
              "</div>"
            ],
            "text/plain": [
              "              HARGA           LT            LB          JKT          JKM  \\\n",
              "count  1.001000e+03  1001.000000   1001.000000  1001.000000  1001.000000   \n",
              "mean   1.747472e+10   530.504496    487.275724     4.457542     3.940060   \n",
              "std    2.079548e+10   531.069773    452.872262     2.004606     1.903261   \n",
              "min    4.300000e+08    22.000000     38.000000     1.000000     1.000000   \n",
              "25%    6.750000e+09   220.000000    300.000000     4.000000     3.000000   \n",
              "50%    1.350000e+10   400.000000    411.000000     4.000000     4.000000   \n",
              "75%    2.000000e+10   677.000000    600.000000     5.000000     4.000000   \n",
              "max    2.500000e+11  6790.000000  10000.000000    27.000000    27.000000   \n",
              "\n",
              "               GRS  \n",
              "count  1001.000000  \n",
              "mean      0.778222  \n",
              "std       0.415650  \n",
              "min       0.000000  \n",
              "25%       1.000000  \n",
              "50%       1.000000  \n",
              "75%       1.000000  \n",
              "max       1.000000  "
            ]
          },
          "execution_count": 89,
          "metadata": {},
          "output_type": "execute_result"
        }
      ],
      "source": [
        "df.describe()"
      ]
    },
    {
      "cell_type": "markdown",
      "metadata": {},
      "source": [
        "VALIDASI DATA MENGAMBIL TYPE DATA ANGKA SEBAGAI ACUAN"
      ]
    },
    {
      "cell_type": "code",
      "execution_count": 90,
      "metadata": {},
      "outputs": [
        {
          "data": {
            "text/plain": [
              "<Axes: >"
            ]
          },
          "execution_count": 90,
          "metadata": {},
          "output_type": "execute_result"
        },
        {
          "data": {
            "image/png": "[encoded data removed]",
            "text/plain": [
              "<Figure size 1000x800 with 2 Axes>"
            ]
          },
          "metadata": {},
          "output_type": "display_data"
        }
      ],
      "source": [
        "df = df.select_dtypes(include=[np.number])\n",
        "plt.figure(figsize=(10,8))\n",
        "sns.heatmap(df.corr(),annot=True)"
      ]
    },
    {
      "cell_type": "markdown",
      "metadata": {},
      "source": [
        "LEBAR TANAH"
      ]
    },
    {
      "cell_type": "markdown",
      "metadata": {
        "id": "9pJDVMAiLhcu"
      },
      "source": [
        "JUMLAH KAMAR TIDUR"
      ]
    },
    {
      "cell_type": "code",
      "execution_count": 91,
      "metadata": {
        "id": "wW90bMGWLkG1"
      },
      "outputs": [
        {
          "data": {
            "text/plain": [
              "<Axes: xlabel='JUMLAH KAMAR TIDUR', ylabel='HARGA'>"
            ]
          },
          "execution_count": 91,
          "metadata": {},
          "output_type": "execute_result"
        },
        {
          "data": {
            "image/png": "[encoded data removed]",
            "text/plain": [
              "<Figure size 1500x500 with 1 Axes>"
            ]
          },
          "metadata": {},
          "output_type": "display_data"
        }
      ],
      "source": [
        "kamarTidur = df.groupby('JKT').count()[['HARGA']].sort_values(by='HARGA').reset_index()\n",
        "kamarTidur = kamarTidur.rename(columns={'HARGA' : 'HARGA'})\n",
        "kamarTidur = kamarTidur.rename(columns={'JKT' : 'JUMLAH KAMAR TIDUR'})\n",
        "\n",
        "plt.figure(figsize=(15,5))\n",
        "sns.barplot(x=kamarTidur['JUMLAH KAMAR TIDUR'], y=kamarTidur['HARGA'], color='royalblue')"
      ]
    },
    {
      "cell_type": "markdown",
      "metadata": {},
      "source": [
        "JUMLAH KAMAR MANDI"
      ]
    },
    {
      "cell_type": "code",
      "execution_count": 92,
      "metadata": {},
      "outputs": [
        {
          "data": {
            "text/plain": [
              "<seaborn.axisgrid.FacetGrid at 0x260bc06b290>"
            ]
          },
          "execution_count": 92,
          "metadata": {},
          "output_type": "execute_result"
        },
        {
          "data": {
            "text/plain": [
              "<Figure size 1500x500 with 0 Axes>"
            ]
          },
          "metadata": {},
          "output_type": "display_data"
        },
        {
          "data": {
            "image/png": "[encoded data removed]",
            "text/plain": [
              "<Figure size 500x500 with 1 Axes>"
            ]
          },
          "metadata": {},
          "output_type": "display_data"
        }
      ],
      "source": [
        "plt.figure(figsize=(15,5))\n",
        "sns.displot(df['JKM'], color='royalblue')"
      ]
    },
    {
      "cell_type": "markdown",
      "metadata": {},
      "source": [
        "JUMLAH PARKIRAN"
      ]
    },
    {
      "cell_type": "markdown",
      "metadata": {
        "id": "YFqCDk4GNVH8"
      },
      "source": [
        "distribusi harga rumah"
      ]
    },
    {
      "cell_type": "code",
      "execution_count": 93,
      "metadata": {
        "colab": {
          "base_uri": "https://localhost:8080/",
          "height": 542
        },
        "id": "LOHTTr5GNZ8f",
        "outputId": "97e46c14-b6d0-4ee0-b78c-0a4d52242671"
      },
      "outputs": [
        {
          "data": {
            "text/plain": [
              "<seaborn.axisgrid.FacetGrid at 0x260bc11d460>"
            ]
          },
          "execution_count": 93,
          "metadata": {},
          "output_type": "execute_result"
        },
        {
          "data": {
            "text/plain": [
              "<Figure size 1500x500 with 0 Axes>"
            ]
          },
          "metadata": {},
          "output_type": "display_data"
        },
        {
          "data": {
            "image/png": "[encoded data removed]",
            "text/plain": [
              "<Figure size 500x500 with 1 Axes>"
            ]
          },
          "metadata": {},
          "output_type": "display_data"
        }
      ],
      "source": [
        "plt.figure(figsize=(15,5))\n",
        "sns.displot(df['HARGA'], color='royalblue')"
      ]
    },
    {
      "cell_type": "markdown",
      "metadata": {},
      "source": [
        ";L"
      ]
    },
    {
      "cell_type": "markdown",
      "metadata": {
        "id": "eOqyWDQpN72A"
      },
      "source": [
        "SELEKSI FITUR"
      ]
    },
    {
      "cell_type": "code",
      "execution_count": 94,
      "metadata": {
        "colab": {
          "base_uri": "https://localhost:8080/"
        },
        "id": "o15Q8edAN_Zg",
        "outputId": "e9b62786-b24e-4b7f-bc0b-21403580a10d"
      },
      "outputs": [
        {
          "data": {
            "text/plain": [
              "((1001, 5), (1001,))"
            ]
          },
          "execution_count": 94,
          "metadata": {},
          "output_type": "execute_result"
        }
      ],
      "source": [
        "features = ['LT', 'LB', 'JKT', 'JKM', 'GRS']\n",
        "x = df[features]\n",
        "y = df['HARGA']\n",
        "x.shape, y.shape"
      ]
    },
    {
      "cell_type": "markdown",
      "metadata": {
        "id": "usWktJJWOq6H"
      },
      "source": [
        "SPLIT DATA TRAINING DAN DATA TESTING"
      ]
    },
    {
      "cell_type": "code",
      "execution_count": 95,
      "metadata": {
        "colab": {
          "base_uri": "https://localhost:8080/"
        },
        "id": "fMHdAwHhOwDo",
        "outputId": "89da6223-5d12-45fe-ef18-303573393774"
      },
      "outputs": [],
      "source": [
        "from sklearn.model_selection import train_test_split\n",
        "x_train, x_test, y_train, y_test = train_test_split(x,y,random_state=70)"
      ]
    },
    {
      "cell_type": "code",
      "execution_count": 96,
      "metadata": {},
      "outputs": [
        {
          "name": "stdout",
          "output_type": "stream",
          "text": [
            "Data latih setelah dilalukan Train-Validation Split : 750\n",
            "Data latih setelah dilalukan Train-Validation Split : 251\n"
          ]
        }
      ],
      "source": [
        "print(\"Data latih setelah dilalukan Train-Validation Split :\",len(x_train))\n",
        "print(\"Data latih setelah dilalukan Train-Validation Split :\",len(x_test))"
      ]
    },
    {
      "cell_type": "markdown",
      "metadata": {
        "id": "w0h3btWEPYvQ"
      },
      "source": [
        "# MODEL REGRESI LINIER"
      ]
    },
    {
      "cell_type": "code",
      "execution_count": 97,
      "metadata": {
        "id": "2u2VsCUfPcvd"
      },
      "outputs": [
        {
          "name": "stdout",
          "output_type": "stream",
          "text": [
            "akurasi model regresi linier =  0.5920248155178813\n"
          ]
        }
      ],
      "source": [
        "from sklearn.linear_model import LinearRegression\n",
        "lr = LinearRegression()\n",
        "lr.fit(x_train, y_train)\n",
        "pred = lr.predict(x_test)\n",
        "score = lr.score(x_test, y_test)\n",
        "print('akurasi model regresi linier = ', score)"
      ]
    },
    {
      "cell_type": "markdown",
      "metadata": {},
      "source": [
        "# MODEL DECISION TREE"
      ]
    },
    {
      "cell_type": "code",
      "execution_count": 98,
      "metadata": {},
      "outputs": [
        {
          "name": "stdout",
          "output_type": "stream",
          "text": [
            "Akurasi Menggunakan Decision Tree : 0.20717131474103587\n"
          ]
        }
      ],
      "source": [
        "from sklearn.tree import DecisionTreeClassifier\n",
        "from sklearn import metrics\n",
        "\n",
        "dt = DecisionTreeClassifier(\n",
        "    max_depth=None,\n",
        "    min_samples_split = 2\n",
        ")\n",
        "dt.fit(x_train,y_train)\n",
        "y_pred= dt.predict(x_test)\n",
        "score = metrics.accuracy_score(y_test, y_pred)\n",
        "print(\"Akurasi Menggunakan Decision Tree :\",score)"
      ]
    },
    {
      "cell_type": "markdown",
      "metadata": {},
      "source": [
        "MEMBUAT INPUTAN MODEL UNTUK IMPORT KE FLASK"
      ]
    },
    {
      "cell_type": "code",
      "execution_count": 99,
      "metadata": {},
      "outputs": [
        {
          "name": "stdout",
          "output_type": "stream",
          "text": [
            "Estimasi harga rumah :  [2.78416921e+10]\n"
          ]
        },
        {
          "name": "stderr",
          "output_type": "stream",
          "text": [
            "c:\\Users\\ytbcr\\anaconda3\\Lib\\site-packages\\sklearn\\base.py:493: UserWarning: X does not have valid feature names, but LinearRegression was fitted with feature names\n",
            "  warnings.warn(\n"
          ]
        }
      ],
      "source": [
        "#LT, LB, JKT, JKM, GRS\n",
        "input_data = np.array([[824, 800, 4, 4, 1]])\n",
        "\n",
        "prediction = lr.predict(input_data)\n",
        "print('Estimasi harga rumah : ', prediction)"
      ]
    },
    {
      "cell_type": "markdown",
      "metadata": {
        "id": "3XVpe08xRzVP"
      },
      "source": [
        "SAVE MODEL"
      ]
    },
    {
      "cell_type": "code",
      "execution_count": 100,
      "metadata": {
        "id": "nwOllxs1R1xc"
      },
      "outputs": [],
      "source": [
        "import pickle \n",
        "pickle.dump(lr,open('rumah.pkl','wb'))"
      ]
    }
  ],
  "metadata": {
    "colab": {
      "provenance": []
    },
    "kernelspec": {
      "display_name": "base",
      "language": "python",
      "name": "python3"
    },
    "language_info": {
      "codemirror_mode": {
        "name": "ipython",
        "version": 3
      },
      "file_extension": ".py",
      "mimetype": "text/x-python",
      "name": "python",
      "nbconvert_exporter": "python",
      "pygments_lexer": "ipython3",
      "version": "3.12.7"
    }
  },
  "nbformat": 4,
  "nbformat_minor": 0
}
